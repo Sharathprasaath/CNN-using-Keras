{
 "cells": [
  {
   "cell_type": "code",
   "execution_count": 1,
   "id": "eec21223",
   "metadata": {},
   "outputs": [],
   "source": [
    "import pandas as pd\n",
    "import numpy as np\n",
    "from keras.utils import np_utils\n",
    "from keras.models import Sequential\n",
    "from keras.layers import Dense, Dropout, Conv2D, MaxPool2D, Flatten\n",
    "from tensorflow.keras.layers import GlobalMaxPooling2D, MaxPooling2D"
   ]
  },
  {
   "cell_type": "code",
   "execution_count": 2,
   "id": "67885d4a",
   "metadata": {},
   "outputs": [],
   "source": [
    "from keras.datasets import cifar10"
   ]
  },
  {
   "cell_type": "code",
   "execution_count": 3,
   "id": "31606313",
   "metadata": {},
   "outputs": [],
   "source": [
    "(x_train,y_train),(x_test,y_test)=cifar10.load_data()"
   ]
  },
  {
   "cell_type": "code",
   "execution_count": 4,
   "id": "43b68ba6",
   "metadata": {},
   "outputs": [],
   "source": [
    "x_train=x_train.astype('float32')"
   ]
  },
  {
   "cell_type": "code",
   "execution_count": 5,
   "id": "07e42027",
   "metadata": {},
   "outputs": [],
   "source": [
    "import matplotlib.pyplot as plt"
   ]
  },
  {
   "cell_type": "code",
   "execution_count": 6,
   "id": "5b988a02",
   "metadata": {},
   "outputs": [],
   "source": [
    "names=['airplane', 'automobile', 'bird', 'cat', 'deer',\n",
    "               'dog', 'frog', 'horse', 'ship', 'truck']"
   ]
  },
  {
   "cell_type": "code",
   "execution_count": 7,
   "id": "e32864f0",
   "metadata": {},
   "outputs": [
    {
     "data": {
      "text/plain": [
       "(10000, 32, 32, 3)"
      ]
     },
     "execution_count": 7,
     "metadata": {},
     "output_type": "execute_result"
    }
   ],
   "source": [
    "x_test=x_test.astype('float32')\n",
    "x_test.shape"
   ]
  },
  {
   "cell_type": "code",
   "execution_count": 8,
   "id": "a7c468a8",
   "metadata": {},
   "outputs": [],
   "source": [
    "x_train=x_train.reshape(x_train.shape[0],32, 32, 3)\n",
    "x_test=x_test.reshape(x_test.shape[0], 32, 32, 3)"
   ]
  },
  {
   "cell_type": "code",
   "execution_count": 9,
   "id": "d9334205",
   "metadata": {},
   "outputs": [
    {
     "data": {
      "text/plain": [
       "(10000, 1)"
      ]
     },
     "execution_count": 9,
     "metadata": {},
     "output_type": "execute_result"
    }
   ],
   "source": [
    "y_test.shape"
   ]
  },
  {
   "cell_type": "code",
   "execution_count": 10,
   "id": "31dee928",
   "metadata": {},
   "outputs": [
    {
     "data": {
      "text/plain": [
       "(50000, 1)"
      ]
     },
     "execution_count": 10,
     "metadata": {},
     "output_type": "execute_result"
    }
   ],
   "source": [
    "y_train.shape"
   ]
  },
  {
   "cell_type": "code",
   "execution_count": 11,
   "id": "011e31b1",
   "metadata": {},
   "outputs": [],
   "source": [
    "x_train/=255"
   ]
  },
  {
   "cell_type": "code",
   "execution_count": 12,
   "id": "95f92716",
   "metadata": {},
   "outputs": [
    {
     "data": {
      "text/plain": [
       "(500, 1)"
      ]
     },
     "execution_count": 12,
     "metadata": {},
     "output_type": "execute_result"
    }
   ],
   "source": [
    "val_y_test=y_test[-500:]\n",
    "val_y_test.shape"
   ]
  },
  {
   "cell_type": "code",
   "execution_count": 13,
   "id": "2b3742bd",
   "metadata": {},
   "outputs": [
    {
     "data": {
      "text/plain": [
       "(500, 32, 32, 3)"
      ]
     },
     "execution_count": 13,
     "metadata": {},
     "output_type": "execute_result"
    }
   ],
   "source": [
    "val_x_test=x_test[-500:]\n",
    "val_x_test.shape"
   ]
  },
  {
   "cell_type": "code",
   "execution_count": 30,
   "id": "7efa165c",
   "metadata": {},
   "outputs": [],
   "source": [
    "val_x_test/=255"
   ]
  },
  {
   "cell_type": "code",
   "execution_count": 14,
   "id": "306316f8",
   "metadata": {},
   "outputs": [
    {
     "data": {
      "text/plain": [
       "(9500, 1)"
      ]
     },
     "execution_count": 14,
     "metadata": {},
     "output_type": "execute_result"
    }
   ],
   "source": [
    "y_test=y_test[:-500]\n",
    "y_test.shape"
   ]
  },
  {
   "cell_type": "code",
   "execution_count": 15,
   "id": "2e65c337",
   "metadata": {},
   "outputs": [
    {
     "data": {
      "text/plain": [
       "(9500, 32, 32, 3)"
      ]
     },
     "execution_count": 15,
     "metadata": {},
     "output_type": "execute_result"
    }
   ],
   "source": [
    "x_test=x_test[:-500]\n",
    "x_test.shape"
   ]
  },
  {
   "cell_type": "code",
   "execution_count": 16,
   "id": "4d6073a1",
   "metadata": {},
   "outputs": [
    {
     "data": {
      "text/plain": [
       "<matplotlib.image.AxesImage at 0x12a47544c70>"
      ]
     },
     "execution_count": 16,
     "metadata": {},
     "output_type": "execute_result"
    },
    {
     "data": {
      "image/png": "[encoded data removed]",
      "text/plain": [
       "<Figure size 432x288 with 1 Axes>"
      ]
     },
     "metadata": {
      "needs_background": "light"
     },
     "output_type": "display_data"
    }
   ],
   "source": [
    "import matplotlib.pyplot as plt\n",
    "#plot the first image in the dataset\n",
    "plt.imshow(x_train[1])"
   ]
  },
  {
   "cell_type": "code",
   "execution_count": 17,
   "id": "eefb9e08",
   "metadata": {},
   "outputs": [
    {
     "data": {
      "text/plain": [
       "(50000, 32, 32, 3)"
      ]
     },
     "execution_count": 17,
     "metadata": {},
     "output_type": "execute_result"
    }
   ],
   "source": [
    "x_train.shape"
   ]
  },
  {
   "cell_type": "code",
   "execution_count": 18,
   "id": "20ba482d",
   "metadata": {},
   "outputs": [],
   "source": [
    "x_test/=255"
   ]
  },
  {
   "cell_type": "code",
   "execution_count": 19,
   "id": "ed132643",
   "metadata": {},
   "outputs": [
    {
     "data": {
      "text/plain": [
       "array([0., 0., 0., 0., 0., 0., 1., 0., 0., 0.], dtype=float32)"
      ]
     },
     "execution_count": 19,
     "metadata": {},
     "output_type": "execute_result"
    }
   ],
   "source": [
    "classsize=10\n",
    "y_train=np_utils.to_categorical(y_train)\n",
    "y_test=np_utils.to_categorical(y_test)\n",
    "y_train[0]"
   ]
  },
  {
   "cell_type": "code",
   "execution_count": 20,
   "id": "09f1f1d5",
   "metadata": {},
   "outputs": [],
   "source": [
    "model_2=Sequential()"
   ]
  },
  {
   "cell_type": "code",
   "execution_count": 21,
   "id": "fa1547b0",
   "metadata": {},
   "outputs": [],
   "source": [
    "model_2.add(Conv2D(64,(3,3),strides=(1,1),input_shape=(32, 32, 3), activation='relu'))\n",
    "model_2.add(MaxPooling2D(pool_size=(2,2)))\n",
    "model_2.add(Conv2D(128,(3,3),strides=(1,1),activation='relu'))\n",
    "model_2.add(MaxPooling2D(pool_size=(2,2)))\n",
    "model_2.add(Conv2D(256,(3,3),strides=(1,1),activation='relu'))\n",
    "model_2.add(MaxPool2D(pool_size=(2,2)))"
   ]
  },
  {
   "cell_type": "code",
   "execution_count": 22,
   "id": "0be48cb4",
   "metadata": {},
   "outputs": [],
   "source": [
    "model_2.add(Flatten())"
   ]
  },
  {
   "cell_type": "code",
   "execution_count": 23,
   "id": "5893b20c",
   "metadata": {},
   "outputs": [],
   "source": [
    "model_2.add(Dense(32, activation='relu'))\n",
    "#model_2.add(Dense(64, activation='relu'))"
   ]
  },
  {
   "cell_type": "code",
   "execution_count": 24,
   "id": "a84977c1",
   "metadata": {},
   "outputs": [],
   "source": [
    "model_2.add(Dense(10, activation='softmax'))"
   ]
  },
  {
   "cell_type": "code",
   "execution_count": 25,
   "id": "7b993009",
   "metadata": {},
   "outputs": [],
   "source": [
    "model_2.compile(loss='categorical_crossentropy', metrics=['accuracy'], optimizer='adam')"
   ]
  },
  {
   "cell_type": "code",
   "execution_count": 26,
   "id": "3515ce84",
   "metadata": {},
   "outputs": [
    {
     "name": "stdout",
     "output_type": "stream",
     "text": [
      "Epoch 1/10\n",
      "391/391 [==============================] - 88s 223ms/step - loss: 1.6758 - accuracy: 0.3841 - val_loss: 1.3270 - val_accuracy: 0.5282\n",
      "Epoch 2/10\n",
      "391/391 [==============================] - 85s 216ms/step - loss: 1.2405 - accuracy: 0.5597 - val_loss: 1.1328 - val_accuracy: 0.6058\n",
      "Epoch 3/10\n",
      "391/391 [==============================] - 99s 253ms/step - loss: 1.0750 - accuracy: 0.6264 - val_loss: 1.0353 - val_accuracy: 0.6418\n",
      "Epoch 4/10\n",
      "391/391 [==============================] - 108s 277ms/step - loss: 0.9545 - accuracy: 0.6721 - val_loss: 0.9643 - val_accuracy: 0.6694\n",
      "Epoch 5/10\n",
      "391/391 [==============================] - 111s 284ms/step - loss: 0.8621 - accuracy: 0.7040 - val_loss: 0.9179 - val_accuracy: 0.6854\n",
      "Epoch 6/10\n",
      "391/391 [==============================] - 110s 282ms/step - loss: 0.7847 - accuracy: 0.7322 - val_loss: 0.8935 - val_accuracy: 0.6903\n",
      "Epoch 7/10\n",
      "391/391 [==============================] - 108s 277ms/step - loss: 0.7229 - accuracy: 0.7513 - val_loss: 0.8721 - val_accuracy: 0.7084\n",
      "Epoch 8/10\n",
      "391/391 [==============================] - 108s 276ms/step - loss: 0.6630 - accuracy: 0.7716 - val_loss: 0.8343 - val_accuracy: 0.7189\n",
      "Epoch 9/10\n",
      "391/391 [==============================] - 109s 279ms/step - loss: 0.6018 - accuracy: 0.7939 - val_loss: 0.8192 - val_accuracy: 0.7288\n",
      "Epoch 10/10\n",
      "391/391 [==============================] - 109s 278ms/step - loss: 0.5454 - accuracy: 0.8140 - val_loss: 0.8507 - val_accuracy: 0.7274\n"
     ]
    },
    {
     "data": {
      "text/plain": [
       "<keras.callbacks.History at 0x12a48084fd0>"
      ]
     },
     "execution_count": 26,
     "metadata": {},
     "output_type": "execute_result"
    }
   ],
   "source": [
    "model_2.fit(x_train, y_train, batch_size=128, epochs=10, validation_data=(x_test, y_test))"
   ]
  },
  {
   "cell_type": "code",
   "execution_count": 32,
   "id": "8770c164",
   "metadata": {},
   "outputs": [
    {
     "name": "stdout",
     "output_type": "stream",
     "text": [
      "1/1 [==============================] - 0s 56ms/step\n"
     ]
    }
   ],
   "source": [
    "pred=model_2.predict(val_x_test[:2])"
   ]
  },
  {
   "cell_type": "code",
   "execution_count": 35,
   "id": "a1366ad9",
   "metadata": {},
   "outputs": [
    {
     "name": "stdout",
     "output_type": "stream",
     "text": [
      "truck\n"
     ]
    },
    {
     "data": {
      "image/png": "[encoded data removed]",
      "text/plain": [
       "<Figure size 432x288 with 1 Axes>"
      ]
     },
     "metadata": {
      "needs_background": "light"
     },
     "output_type": "display_data"
    }
   ],
   "source": [
    "plt.imshow(val_x_test[0])\n",
    "s=np.argmax(pred[0])\n",
    "print(names[s])"
   ]
  },
  {
   "cell_type": "code",
   "execution_count": null,
   "id": "007b806d",
   "metadata": {},
   "outputs": [],
   "source": []
  }
 ],
 "metadata": {
  "kernelspec": {
   "display_name": "Python 3 (ipykernel)",
   "language": "python",
   "name": "python3"
  },
  "language_info": {
   "codemirror_mode": {
    "name": "ipython",
    "version": 3
   },
   "file_extension": ".py",
   "mimetype": "text/x-python",
   "name": "python",
   "nbconvert_exporter": "python",
   "pygments_lexer": "ipython3",
   "version": "3.9.12"
  }
 },
 "nbformat": 4,
 "nbformat_minor": 5
}
