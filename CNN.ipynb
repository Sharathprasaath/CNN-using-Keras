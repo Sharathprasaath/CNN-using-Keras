{
 "cells": [
  {
   "cell_type": "code",
   "execution_count": 2,
   "id": "eec21223",
   "metadata": {},
   "outputs": [],
   "source": [
    "import pandas as pd\n",
    "import numpy as np\n",
    "from keras.utils import np_utils\n",
    "from keras.models import Sequential\n",
    "from keras.layers import Dense, Dropout, Conv2D, MaxPool2D, Flatten\n",
    "from tensorflow.keras.layers import GlobalMaxPooling2D, MaxPooling2D"
   ]
  },
  {
   "cell_type": "code",
   "execution_count": 3,
   "id": "67885d4a",
   "metadata": {},
   "outputs": [],
   "source": [
    "from keras.datasets import cifar10"
   ]
  },
  {
   "cell_type": "code",
   "execution_count": 4,
   "id": "31606313",
   "metadata": {},
   "outputs": [],
   "source": [
    "(x_train,y_train),(x_test,y_test)=cifar10.load_data()"
   ]
  },
  {
   "cell_type": "code",
   "execution_count": 5,
   "id": "43b68ba6",
   "metadata": {},
   "outputs": [],
   "source": [
    "x_train=x_train.astype('float32')"
   ]
  },
  {
   "cell_type": "code",
   "execution_count": 6,
   "id": "07e42027",
   "metadata": {},
   "outputs": [],
   "source": [
    "import matplotlib.pyplot as plt"
   ]
  },
  {
   "cell_type": "code",
   "execution_count": 7,
   "id": "5b988a02",
   "metadata": {},
   "outputs": [],
   "source": [
    "names=['airplane', 'automobile', 'bird', 'cat', 'deer',\n",
    "               'dog', 'frog', 'horse', 'ship', 'truck']"
   ]
  },
  {
   "cell_type": "code",
   "execution_count": 8,
   "id": "e32864f0",
   "metadata": {},
   "outputs": [
    {
     "data": {
      "text/plain": [
       "(10000, 32, 32, 3)"
      ]
     },
     "execution_count": 8,
     "metadata": {},
     "output_type": "execute_result"
    }
   ],
   "source": [
    "x_test=x_test.astype('float32')\n",
    "x_test.shape"
   ]
  },
  {
   "cell_type": "code",
   "execution_count": 9,
   "id": "a7c468a8",
   "metadata": {},
   "outputs": [],
   "source": [
    "x_train=x_train.reshape(x_train.shape[0],32, 32, 3)\n",
    "x_test=x_test.reshape(x_test.shape[0], 32, 32, 3)"
   ]
  },
  {
   "cell_type": "code",
   "execution_count": 10,
   "id": "d9334205",
   "metadata": {},
   "outputs": [
    {
     "data": {
      "text/plain": [
       "(10000, 1)"
      ]
     },
     "execution_count": 10,
     "metadata": {},
     "output_type": "execute_result"
    }
   ],
   "source": [
    "y_test.shape"
   ]
  },
  {
   "cell_type": "code",
   "execution_count": 11,
   "id": "31dee928",
   "metadata": {},
   "outputs": [
    {
     "data": {
      "text/plain": [
       "(50000, 1)"
      ]
     },
     "execution_count": 11,
     "metadata": {},
     "output_type": "execute_result"
    }
   ],
   "source": [
    "y_train.shape"
   ]
  },
  {
   "cell_type": "code",
   "execution_count": 12,
   "id": "011e31b1",
   "metadata": {},
   "outputs": [],
   "source": [
    "x_train/=255"
   ]
  },
  {
   "cell_type": "code",
   "execution_count": 13,
   "id": "4d6073a1",
   "metadata": {},
   "outputs": [
    {
     "data": {
      "text/plain": [
       "<matplotlib.image.AxesImage at 0x1fa0815d760>"
      ]
     },
     "execution_count": 13,
     "metadata": {},
     "output_type": "execute_result"
    },
    {
     "data": {
      "image/png": "[encoded data removed]",
      "text/plain": [
       "<Figure size 432x288 with 1 Axes>"
      ]
     },
     "metadata": {
      "needs_background": "light"
     },
     "output_type": "display_data"
    }
   ],
   "source": [
    "import matplotlib.pyplot as plt\n",
    "#plot the first image in the dataset\n",
    "plt.imshow(x_train[1])"
   ]
  },
  {
   "cell_type": "code",
   "execution_count": 14,
   "id": "eefb9e08",
   "metadata": {},
   "outputs": [
    {
     "data": {
      "text/plain": [
       "(50000, 32, 32, 3)"
      ]
     },
     "execution_count": 14,
     "metadata": {},
     "output_type": "execute_result"
    }
   ],
   "source": [
    "x_train.shape"
   ]
  },
  {
   "cell_type": "code",
   "execution_count": 15,
   "id": "20ba482d",
   "metadata": {},
   "outputs": [],
   "source": [
    "x_test/=255"
   ]
  },
  {
   "cell_type": "code",
   "execution_count": 16,
   "id": "ed132643",
   "metadata": {},
   "outputs": [
    {
     "data": {
      "text/plain": [
       "array([0., 0., 0., 0., 0., 0., 1., 0., 0., 0.], dtype=float32)"
      ]
     },
     "execution_count": 16,
     "metadata": {},
     "output_type": "execute_result"
    }
   ],
   "source": [
    "classsize=10\n",
    "y_train=np_utils.to_categorical(y_train)\n",
    "y_test=np_utils.to_categorical(y_test)\n",
    "y_train[0]"
   ]
  },
  {
   "cell_type": "code",
   "execution_count": 17,
   "id": "09f1f1d5",
   "metadata": {},
   "outputs": [],
   "source": [
    "model_2=Sequential()"
   ]
  },
  {
   "cell_type": "code",
   "execution_count": 18,
   "id": "fa1547b0",
   "metadata": {},
   "outputs": [],
   "source": [
    "model_2.add(Conv2D(64,(3,3),strides=(1,1),input_shape=(32, 32, 3), activation='relu'))\n",
    "model_2.add(MaxPooling2D(pool_size=(2,2)))\n",
    "model_2.add(Conv2D(128,(3,3),strides=(1,1),activation='relu'))\n",
    "model_2.add(MaxPooling2D(pool_size=(2,2)))\n",
    "model_2.add(Conv2D(256,(3,3),strides=(1,1),activation='relu'))\n",
    "model_2.add(MaxPool2D(pool_size=(2,2)))"
   ]
  },
  {
   "cell_type": "code",
   "execution_count": 19,
   "id": "0be48cb4",
   "metadata": {},
   "outputs": [],
   "source": [
    "model_2.add(Flatten())"
   ]
  },
  {
   "cell_type": "code",
   "execution_count": 20,
   "id": "5893b20c",
   "metadata": {},
   "outputs": [],
   "source": [
    "model_2.add(Dense(32, activation='relu'))\n",
    "#model_2.add(Dense(64, activation='relu'))"
   ]
  },
  {
   "cell_type": "code",
   "execution_count": 21,
   "id": "a84977c1",
   "metadata": {},
   "outputs": [],
   "source": [
    "model_2.add(Dense(10, activation='softmax'))"
   ]
  },
  {
   "cell_type": "code",
   "execution_count": 22,
   "id": "7b993009",
   "metadata": {},
   "outputs": [],
   "source": [
    "model_2.compile(loss='categorical_crossentropy', metrics=['accuracy'], optimizer='adam')"
   ]
  },
  {
   "cell_type": "code",
   "execution_count": 23,
   "id": "3515ce84",
   "metadata": {},
   "outputs": [
    {
     "name": "stdout",
     "output_type": "stream",
     "text": [
      "Epoch 1/10\n",
      "391/391 [==============================] - 125s 313ms/step - loss: 1.5928 - accuracy: 0.4237 - val_loss: 1.3112 - val_accuracy: 0.5247\n",
      "Epoch 2/10\n",
      "391/391 [==============================] - 116s 297ms/step - loss: 1.1945 - accuracy: 0.5805 - val_loss: 1.0812 - val_accuracy: 0.6200\n",
      "Epoch 3/10\n",
      "391/391 [==============================] - 125s 320ms/step - loss: 1.0181 - accuracy: 0.6461 - val_loss: 1.0450 - val_accuracy: 0.6390\n",
      "Epoch 4/10\n",
      "391/391 [==============================] - 117s 299ms/step - loss: 0.9068 - accuracy: 0.6862 - val_loss: 0.9091 - val_accuracy: 0.6875\n",
      "Epoch 5/10\n",
      "391/391 [==============================] - 114s 291ms/step - loss: 0.8225 - accuracy: 0.7166 - val_loss: 0.8802 - val_accuracy: 0.6997\n",
      "Epoch 6/10\n",
      "391/391 [==============================] - 110s 282ms/step - loss: 0.7540 - accuracy: 0.7401 - val_loss: 0.8544 - val_accuracy: 0.7109\n",
      "Epoch 7/10\n",
      "391/391 [==============================] - 116s 296ms/step - loss: 0.6838 - accuracy: 0.7653 - val_loss: 0.8103 - val_accuracy: 0.7265\n",
      "Epoch 8/10\n",
      "391/391 [==============================] - 115s 294ms/step - loss: 0.6213 - accuracy: 0.7856 - val_loss: 0.8501 - val_accuracy: 0.7140\n",
      "Epoch 9/10\n",
      "391/391 [==============================] - 110s 280ms/step - loss: 0.5711 - accuracy: 0.8031 - val_loss: 0.8546 - val_accuracy: 0.7208\n",
      "Epoch 10/10\n",
      "391/391 [==============================] - 117s 301ms/step - loss: 0.5187 - accuracy: 0.8212 - val_loss: 0.8692 - val_accuracy: 0.7244\n"
     ]
    },
    {
     "data": {
      "text/plain": [
       "<keras.callbacks.History at 0x1fa08db4910>"
      ]
     },
     "execution_count": 23,
     "metadata": {},
     "output_type": "execute_result"
    }
   ],
   "source": [
    "model_2.fit(x_train, y_train, batch_size=128, epochs=10, validation_data=(x_test, y_test))"
   ]
  },
  {
   "cell_type": "code",
   "execution_count": 24,
   "id": "8770c164",
   "metadata": {},
   "outputs": [
    {
     "name": "stdout",
     "output_type": "stream",
     "text": [
      "1/1 [==============================] - 1s 567ms/step\n"
     ]
    }
   ],
   "source": [
    "pred=model_2.predict(x_test[:2])"
   ]
  },
  {
   "cell_type": "code",
   "execution_count": 26,
   "id": "d0d72715",
   "metadata": {
    "scrolled": true
   },
   "outputs": [
    {
     "name": "stdout",
     "output_type": "stream",
     "text": [
      "ship\n"
     ]
    },
    {
     "data": {
      "image/png": "[encoded data removed]",
      "text/plain": [
       "<Figure size 432x288 with 1 Axes>"
      ]
     },
     "metadata": {
      "needs_background": "light"
     },
     "output_type": "display_data"
    }
   ],
   "source": [
    "plt.imshow(x_test[1])\n",
    "s=np.argmax(pred[1])\n",
    "print(names[s])"
   ]
  },
  {
   "cell_type": "code",
   "execution_count": null,
   "id": "9cff451a",
   "metadata": {},
   "outputs": [],
   "source": [
    "db2=(-1)*sigd(z3)*w3.T*sigd(z2)*1\n",
    "    dw1=(-1)*sigd(z3)*w3.T*sigd(z2)*w2*sigd(z1)*xtrain"
   ]
  }
 ],
 "metadata": {
  "kernelspec": {
   "display_name": "Python 3 (ipykernel)",
   "language": "python",
   "name": "python3"
  },
  "language_info": {
   "codemirror_mode": {
    "name": "ipython",
    "version": 3
   },
   "file_extension": ".py",
   "mimetype": "text/x-python",
   "name": "python",
   "nbconvert_exporter": "python",
   "pygments_lexer": "ipython3",
   "version": "3.9.12"
  }
 },
 "nbformat": 4,
 "nbformat_minor": 5
}
